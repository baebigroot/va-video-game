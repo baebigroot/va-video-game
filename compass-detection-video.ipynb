{
 "cells": [
  {
   "cell_type": "code",
   "execution_count": 242,
   "id": "initial_id",
   "metadata": {
    "collapsed": true,
    "ExecuteTime": {
     "start_time": "2025-02-11T17:12:16.681174800Z"
    }
   },
   "outputs": [],
   "source": [
    "import cv2\n",
    "import numpy as np\n",
    "import time"
   ]
  },
  {
   "cell_type": "code",
   "outputs": [],
   "source": [
    "vid = cv2.VideoCapture(\"test_videos/test-compass3.mp4\")"
   ],
   "metadata": {
    "collapsed": false,
    "ExecuteTime": {
     "end_time": "2025-02-11T17:12:16.802857900Z",
     "start_time": "2025-02-11T17:12:16.684792800Z"
    }
   },
   "id": "459bef9c8c89a8df",
   "execution_count": 243
  },
  {
   "cell_type": "code",
   "outputs": [
    {
     "data": {
      "text/plain": "'\"#Lire la vidéo\\n#Appuyer sur q pour fermer la fenetre\\nwhile True:\\n    ret, frame = vid.read() #Lire une image de la video\\n    if not ret:\\n        break\\n    cv2.imshow(\"Vidéo\",frame) #On affiche l\\'image\\n    if cv2.waitKey(1) & 0xFF == ord(\\'q\\'):\\n        break\\nvid.release()\\ncv2.destroyAllWindows()'"
     },
     "execution_count": 244,
     "metadata": {},
     "output_type": "execute_result"
    }
   ],
   "source": [
    "\"\"\"\"#Lire la vidéo\n",
    "#Appuyer sur q pour fermer la fenetre\n",
    "while True:\n",
    "    ret, frame = vid.read() #Lire une image de la video\n",
    "    if not ret:\n",
    "        break\n",
    "    cv2.imshow(\"Vidéo\",frame) #On affiche l'image\n",
    "    if cv2.waitKey(1) & 0xFF == ord('q'):\n",
    "        break\n",
    "vid.release()\n",
    "cv2.destroyAllWindows()\"\"\""
   ],
   "metadata": {
    "collapsed": false,
    "ExecuteTime": {
     "end_time": "2025-02-11T17:12:16.825084300Z",
     "start_time": "2025-02-11T17:12:16.807920900Z"
    }
   },
   "id": "16d84f41773a572f",
   "execution_count": 244
  },
  {
   "cell_type": "code",
   "outputs": [
    {
     "name": "stdout",
     "output_type": "stream",
     "text": [
      "FPS de la vidéo d'origine : 30\n"
     ]
    }
   ],
   "source": [
    "#Detection\n",
    "template = cv2.imread(\"compass_template_center.jpg\", cv2.IMREAD_GRAYSCALE)\n",
    "h, w = template.shape[:2]\n",
    "fps = int(vid.get(cv2.CAP_PROP_FPS)) #Fréquence d'image imposée\n",
    "print(f\"FPS de la vidéo d'origine : {fps}\")\n",
    "frame_time = 1 / fps\n",
    "start_time = time.time() #temps de départ\n",
    "frame_id = 0\n",
    "while vid.isOpened():\n",
    "    ret, frame = vid.read() #Lire une image de la video\n",
    "    if not ret:\n",
    "        break\n",
    "        \n",
    "    frame_id += 1\n",
    "    # On traite la vidéo toute les X frames \n",
    "    if frame_id % 2 == 0:\n",
    "        gray = cv2.cvtColor(frame, cv2.COLOR_BGR2GRAY) #On passe en niveau de gris (obligatoire avec matchTemplate)\n",
    "        result = cv2.matchTemplate(gray, template, cv2.TM_CCOEFF_NORMED) #Matching\n",
    "        threshold = 0.9 #en dessous de 0.8 bcp de faux positifs\n",
    "        loc = np.where(result >= threshold) #Bonne correspondance\n",
    "        # Dessiner des rectangles autour des correspondances\n",
    "    else:\n",
    "        loc = []\n",
    "    for pt in zip(*loc[::-1]): #Coordonnées coins superieur gauche\n",
    "        bottom_right = (pt[0] + w, pt[1] + h) #Bas à droite\n",
    "        cv2.rectangle(frame, pt, bottom_right, (0, 255, 0), 2)\n",
    "    cv2.namedWindow(\"Detection\", cv2.WINDOW_NORMAL) #Permet de redimensionner la fenetre et de voir toute la vidéo (sinon image tronquée)\n",
    "    cv2.imshow(\"Detection\",frame) #On affiche l'image \n",
    "    if cv2.waitKey(int(1)) & 0xFF == ord('q'):\n",
    "        break\n",
    "    \n",
    "vid.release()\n",
    "cv2.destroyAllWindows()\n"
   ],
   "metadata": {
    "collapsed": false,
    "ExecuteTime": {
     "end_time": "2025-02-11T17:12:23.471066900Z",
     "start_time": "2025-02-11T17:12:16.819944800Z"
    }
   },
   "id": "3060f119f7a33f65",
   "execution_count": 245
  },
  {
   "cell_type": "code",
   "outputs": [],
   "source": [],
   "metadata": {
    "collapsed": false,
    "ExecuteTime": {
     "end_time": "2025-02-11T17:12:23.537049700Z",
     "start_time": "2025-02-11T17:12:23.456242600Z"
    }
   },
   "id": "2b763a31333223bd",
   "execution_count": 245
  },
  {
   "cell_type": "code",
   "outputs": [],
   "source": [],
   "metadata": {
    "collapsed": false,
    "ExecuteTime": {
     "end_time": "2025-02-11T17:12:23.537049700Z",
     "start_time": "2025-02-11T17:12:23.461841300Z"
    }
   },
   "id": "44db5381255970d9",
   "execution_count": 245
  }
 ],
 "metadata": {
  "kernelspec": {
   "display_name": "Python 3",
   "language": "python",
   "name": "python3"
  },
  "language_info": {
   "codemirror_mode": {
    "name": "ipython",
    "version": 2
   },
   "file_extension": ".py",
   "mimetype": "text/x-python",
   "name": "python",
   "nbconvert_exporter": "python",
   "pygments_lexer": "ipython2",
   "version": "2.7.6"
  }
 },
 "nbformat": 4,
 "nbformat_minor": 5
}
