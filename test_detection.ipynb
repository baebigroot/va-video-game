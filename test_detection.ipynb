{
 "cells": [
  {
   "cell_type": "code",
   "execution_count": 490,
   "id": "initial_id",
   "metadata": {
    "collapsed": true,
    "ExecuteTime": {
     "end_time": "2025-02-09T18:01:14.004609Z",
     "start_time": "2025-02-09T18:01:13.992285200Z"
    }
   },
   "outputs": [],
   "source": [
    "#!pip install opencv-python\n",
    "import cv2\n",
    "import numpy as np\n",
    "import matplotlib.pyplot as plt"
   ]
  },
  {
   "cell_type": "code",
   "outputs": [],
   "source": [
    "image = cv2.imread(\"test_detection_images/test_pomme_image_5.png\", cv2.IMREAD_UNCHANGED)\n",
    "template = cv2.imread(\"test_detection_images/template_pomme.png\", cv2.IMREAD_COLOR)"
   ],
   "metadata": {
    "collapsed": false,
    "ExecuteTime": {
     "end_time": "2025-02-09T18:01:14.140803400Z",
     "start_time": "2025-02-09T18:01:14.011151700Z"
    }
   },
   "id": "f6f5511eb0d44002",
   "execution_count": 491
  },
  {
   "cell_type": "code",
   "outputs": [],
   "source": [
    "cv2.imshow(\"Scene\", image)\n",
    "cv2.waitKey()\n",
    "cv2.destroyAllWindows()"
   ],
   "metadata": {
    "collapsed": false,
    "ExecuteTime": {
     "end_time": "2025-02-09T18:01:15.185937200Z",
     "start_time": "2025-02-09T18:01:14.029230400Z"
    }
   },
   "id": "45ee6309179301a1",
   "execution_count": 492
  },
  {
   "cell_type": "code",
   "outputs": [],
   "source": [
    "cv2.imshow(\"Pomme\", template)\n",
    "cv2.waitKey()\n",
    "cv2.destroyAllWindows()"
   ],
   "metadata": {
    "collapsed": false,
    "ExecuteTime": {
     "end_time": "2025-02-09T18:01:16.357273200Z",
     "start_time": "2025-02-09T18:01:15.134011800Z"
    }
   },
   "id": "5c022c781519b860",
   "execution_count": 493
  },
  {
   "cell_type": "code",
   "outputs": [],
   "source": [
    "result = cv2.matchTemplate(image, template, cv2.TM_CCOEFF_NORMED)"
   ],
   "metadata": {
    "collapsed": false,
    "ExecuteTime": {
     "end_time": "2025-02-09T18:01:16.415233600Z",
     "start_time": "2025-02-09T18:01:16.360712100Z"
    }
   },
   "id": "ba547a4337fafb8e",
   "execution_count": 494
  },
  {
   "cell_type": "code",
   "outputs": [],
   "source": [
    "cv2.imshow(\"Result\", result)\n",
    "cv2.waitKey()\n",
    "cv2.destroyAllWindows()"
   ],
   "metadata": {
    "collapsed": false,
    "ExecuteTime": {
     "end_time": "2025-02-09T18:01:17.401261800Z",
     "start_time": "2025-02-09T18:01:16.417340300Z"
    }
   },
   "id": "b676855b1957bb6d",
   "execution_count": 495
  },
  {
   "cell_type": "code",
   "outputs": [],
   "source": [
    "min_val, max_val, min_loc, max_loc = cv2.minMaxLoc(result)"
   ],
   "metadata": {
    "collapsed": false,
    "ExecuteTime": {
     "end_time": "2025-02-09T18:01:17.402696900Z",
     "start_time": "2025-02-09T18:01:17.394923300Z"
    }
   },
   "id": "2924d202d0996eba",
   "execution_count": 496
  },
  {
   "cell_type": "code",
   "outputs": [],
   "source": [
    "w = template.shape[1]\n",
    "h = template.shape[0]"
   ],
   "metadata": {
    "collapsed": false,
    "ExecuteTime": {
     "end_time": "2025-02-09T18:01:17.415373200Z",
     "start_time": "2025-02-09T18:01:17.401261800Z"
    }
   },
   "id": "456f426b7782367c",
   "execution_count": 497
  },
  {
   "cell_type": "code",
   "outputs": [
    {
     "data": {
      "text/plain": "array([[[218, 192, 162],\n        [218, 192, 162],\n        [218, 192, 162],\n        ...,\n        [126,  72,  39],\n        [126,  70,  41],\n        [126,  70,  41]],\n\n       [[218, 192, 162],\n        [218, 192, 162],\n        [218, 192, 162],\n        ...,\n        [126,  72,  39],\n        [126,  70,  41],\n        [126,  70,  41]],\n\n       [[217, 191, 161],\n        [217, 191, 161],\n        [217, 191, 161],\n        ...,\n        [126,  72,  39],\n        [126,  70,  41],\n        [126,  70,  41]],\n\n       ...,\n\n       [[152, 105,  73],\n        [148, 103,  70],\n        [148, 103,  70],\n        ...,\n        [116,  77,  49],\n        [114,  77,  49],\n        [112,  78,  49]],\n\n       [[151, 106,  73],\n        [146, 103,  70],\n        [145, 102,  69],\n        ...,\n        [116,  77,  49],\n        [112,  78,  49],\n        [112,  78,  49]],\n\n       [[149, 106,  73],\n        [145, 102,  69],\n        [142, 101,  68],\n        ...,\n        [116,  77,  49],\n        [112,  78,  49],\n        [110,  78,  49]]], dtype=uint8)"
     },
     "execution_count": 498,
     "metadata": {},
     "output_type": "execute_result"
    }
   ],
   "source": [
    "cv2.rectangle(image, max_loc, (max_loc[0] + w, max_loc[1] + h), (0, 255, 255), 2)"
   ],
   "metadata": {
    "collapsed": false,
    "ExecuteTime": {
     "end_time": "2025-02-09T18:01:17.430388400Z",
     "start_time": "2025-02-09T18:01:17.408964400Z"
    }
   },
   "id": "fae0930441ff8c5a",
   "execution_count": 498
  },
  {
   "cell_type": "code",
   "outputs": [],
   "source": [
    "threshold = .999"
   ],
   "metadata": {
    "collapsed": false,
    "ExecuteTime": {
     "end_time": "2025-02-09T18:01:17.431674500Z",
     "start_time": "2025-02-09T18:01:17.418648700Z"
    }
   },
   "id": "41c079958788f309",
   "execution_count": 499
  },
  {
   "cell_type": "code",
   "outputs": [],
   "source": [
    "yloc, xloc = np.where(result >= threshold)"
   ],
   "metadata": {
    "collapsed": false,
    "ExecuteTime": {
     "end_time": "2025-02-09T18:01:17.494581500Z",
     "start_time": "2025-02-09T18:01:17.425426600Z"
    }
   },
   "id": "57a0403114b0faab",
   "execution_count": 500
  },
  {
   "cell_type": "code",
   "outputs": [
    {
     "data": {
      "text/plain": "0"
     },
     "execution_count": 501,
     "metadata": {},
     "output_type": "execute_result"
    }
   ],
   "source": [
    "len(xloc)"
   ],
   "metadata": {
    "collapsed": false,
    "ExecuteTime": {
     "end_time": "2025-02-09T18:01:17.495585800Z",
     "start_time": "2025-02-09T18:01:17.432792200Z"
    }
   },
   "id": "a178ae8fd55b3a1d",
   "execution_count": 501
  },
  {
   "cell_type": "code",
   "outputs": [],
   "source": [
    "for (x, y) in zip(xloc, yloc):\n",
    "    cv2.rectangle(image, (x, y), (x + w, y + h), (0, 255, 255), 2)"
   ],
   "metadata": {
    "collapsed": false,
    "ExecuteTime": {
     "end_time": "2025-02-09T18:01:17.495585800Z",
     "start_time": "2025-02-09T18:01:17.439264700Z"
    }
   },
   "id": "1239c8a31920b67d",
   "execution_count": 502
  },
  {
   "cell_type": "code",
   "outputs": [],
   "source": [
    "cv2.imshow(\"Scene\", image)\n",
    "cv2.waitKey()\n",
    "cv2.destroyAllWindows()"
   ],
   "metadata": {
    "collapsed": false,
    "ExecuteTime": {
     "end_time": "2025-02-09T18:01:19.155134600Z",
     "start_time": "2025-02-09T18:01:17.445836100Z"
    }
   },
   "id": "56bcca870b19a83c",
   "execution_count": 503
  },
  {
   "cell_type": "code",
   "outputs": [],
   "source": [],
   "metadata": {
    "collapsed": false,
    "ExecuteTime": {
     "end_time": "2025-02-09T18:01:19.155134600Z",
     "start_time": "2025-02-09T18:01:19.147091700Z"
    }
   },
   "id": "ea4b4ee027df0a23",
   "execution_count": 503
  },
  {
   "cell_type": "code",
   "outputs": [],
   "source": [],
   "metadata": {
    "collapsed": false,
    "ExecuteTime": {
     "end_time": "2025-02-09T18:01:19.167023900Z",
     "start_time": "2025-02-09T18:01:19.153612500Z"
    }
   },
   "id": "71ca21d70ea06014",
   "execution_count": 503
  }
 ],
 "metadata": {
  "kernelspec": {
   "display_name": "Python 3",
   "language": "python",
   "name": "python3"
  },
  "language_info": {
   "codemirror_mode": {
    "name": "ipython",
    "version": 2
   },
   "file_extension": ".py",
   "mimetype": "text/x-python",
   "name": "python",
   "nbconvert_exporter": "python",
   "pygments_lexer": "ipython2",
   "version": "2.7.6"
  }
 },
 "nbformat": 4,
 "nbformat_minor": 5
}
