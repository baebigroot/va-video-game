{
 "cells": [
  {
   "cell_type": "code",
   "execution_count": 64,
   "metadata": {
    "ExecuteTime": {
     "end_time": "2025-02-09T18:06:16.125314300Z",
     "start_time": "2025-02-09T18:06:16.072153400Z"
    }
   },
   "outputs": [],
   "source": [
    "#!pip install opencv-python\n",
    "import cv2\n",
    "import numpy as np\n",
    "import matplotlib.pyplot as plt"
   ]
  },
  {
   "cell_type": "code",
   "execution_count": 65,
   "metadata": {
    "ExecuteTime": {
     "end_time": "2025-02-09T18:06:16.126339600Z",
     "start_time": "2025-02-09T18:06:16.080440100Z"
    }
   },
   "outputs": [],
   "source": [
    "image = cv2.imread(\"screenshot.jpg\", cv2.IMREAD_UNCHANGED)\n",
    "template = cv2.imread(\"compass_template_center.jpg\", cv2.IMREAD_COLOR)"
   ]
  },
  {
   "cell_type": "code",
   "execution_count": 79,
   "metadata": {
    "ExecuteTime": {
     "end_time": "2025-02-09T18:06:48.162222900Z",
     "start_time": "2025-02-09T18:06:24.133779900Z"
    }
   },
   "outputs": [],
   "source": [
    "cv2.imshow(\"Scene\", image)\n",
    "cv2.waitKey()\n",
    "cv2.destroyAllWindows()"
   ]
  },
  {
   "cell_type": "code",
   "execution_count": 67,
   "metadata": {
    "ExecuteTime": {
     "end_time": "2025-02-09T18:06:18.690539100Z",
     "start_time": "2025-02-09T18:06:17.449564200Z"
    }
   },
   "outputs": [],
   "source": [
    "cv2.imshow(\"Compass\", template)\n",
    "cv2.waitKey()\n",
    "cv2.destroyAllWindows()"
   ]
  },
  {
   "cell_type": "code",
   "execution_count": 68,
   "metadata": {
    "ExecuteTime": {
     "end_time": "2025-02-09T18:06:18.802220800Z",
     "start_time": "2025-02-09T18:06:18.679656300Z"
    }
   },
   "outputs": [],
   "source": [
    "result = cv2.matchTemplate(image, template, cv2.TM_CCOEFF_NORMED)"
   ]
  },
  {
   "cell_type": "code",
   "execution_count": 69,
   "metadata": {
    "ExecuteTime": {
     "end_time": "2025-02-09T18:06:20.383768100Z",
     "start_time": "2025-02-09T18:06:18.808454700Z"
    }
   },
   "outputs": [],
   "source": [
    "cv2.imshow(\"Result\", result)\n",
    "cv2.waitKey()\n",
    "cv2.destroyAllWindows()"
   ]
  },
  {
   "cell_type": "code",
   "execution_count": 70,
   "metadata": {
    "ExecuteTime": {
     "end_time": "2025-02-09T18:06:20.383768100Z",
     "start_time": "2025-02-09T18:06:20.369830300Z"
    }
   },
   "outputs": [],
   "source": [
    "min_val, max_val, min_loc, max_loc = cv2.minMaxLoc(result)"
   ]
  },
  {
   "cell_type": "code",
   "execution_count": 71,
   "metadata": {
    "ExecuteTime": {
     "end_time": "2025-02-09T18:06:20.399643600Z",
     "start_time": "2025-02-09T18:06:20.376644200Z"
    }
   },
   "outputs": [
    {
     "data": {
      "text/plain": "(693, 147)"
     },
     "execution_count": 71,
     "metadata": {},
     "output_type": "execute_result"
    }
   ],
   "source": [
    "max_loc"
   ]
  },
  {
   "cell_type": "code",
   "execution_count": 72,
   "metadata": {
    "ExecuteTime": {
     "end_time": "2025-02-09T18:06:20.400147900Z",
     "start_time": "2025-02-09T18:06:20.391261900Z"
    }
   },
   "outputs": [
    {
     "data": {
      "text/plain": "0.9834401607513428"
     },
     "execution_count": 72,
     "metadata": {},
     "output_type": "execute_result"
    }
   ],
   "source": [
    "max_val"
   ]
  },
  {
   "cell_type": "code",
   "execution_count": 73,
   "metadata": {
    "ExecuteTime": {
     "end_time": "2025-02-09T18:06:20.463451600Z",
     "start_time": "2025-02-09T18:06:20.398588500Z"
    }
   },
   "outputs": [],
   "source": [
    "w = template.shape[1]\n",
    "h = template.shape[0]"
   ]
  },
  {
   "cell_type": "code",
   "execution_count": 74,
   "metadata": {
    "ExecuteTime": {
     "end_time": "2025-02-09T18:06:20.464824Z",
     "start_time": "2025-02-09T18:06:20.405312600Z"
    }
   },
   "outputs": [
    {
     "data": {
      "text/plain": "array([[[15, 13, 12],\n        [15, 13, 12],\n        [15, 13, 12],\n        ...,\n        [13, 11, 10],\n        [14, 12, 11],\n        [13, 11, 10]],\n\n       [[15, 13, 12],\n        [15, 13, 12],\n        [15, 13, 12],\n        ...,\n        [13, 11, 10],\n        [14, 12, 11],\n        [13, 11, 10]],\n\n       [[15, 13, 12],\n        [15, 13, 12],\n        [15, 13, 12],\n        ...,\n        [13, 11, 10],\n        [14, 12, 11],\n        [13, 11, 10]],\n\n       ...,\n\n       [[32, 31, 27],\n        [32, 31, 27],\n        [32, 31, 27],\n        ...,\n        [37, 36, 32],\n        [37, 36, 32],\n        [37, 36, 32]],\n\n       [[31, 30, 26],\n        [31, 30, 26],\n        [31, 30, 26],\n        ...,\n        [37, 36, 32],\n        [37, 36, 32],\n        [37, 36, 32]],\n\n       [[31, 30, 26],\n        [31, 30, 26],\n        [31, 30, 26],\n        ...,\n        [37, 36, 32],\n        [37, 36, 32],\n        [37, 36, 32]]], dtype=uint8)"
     },
     "execution_count": 74,
     "metadata": {},
     "output_type": "execute_result"
    }
   ],
   "source": [
    "cv2.rectangle(image, max_loc, (max_loc[0] + w, max_loc[1] + h), (0, 255, 255), 2)"
   ]
  },
  {
   "cell_type": "code",
   "execution_count": 75,
   "metadata": {
    "ExecuteTime": {
     "end_time": "2025-02-09T18:06:20.464824Z",
     "start_time": "2025-02-09T18:06:20.421344300Z"
    }
   },
   "outputs": [],
   "source": [
    "threshold = .85"
   ]
  },
  {
   "cell_type": "code",
   "execution_count": 76,
   "metadata": {
    "ExecuteTime": {
     "end_time": "2025-02-09T18:06:20.501531400Z",
     "start_time": "2025-02-09T18:06:20.426133700Z"
    }
   },
   "outputs": [],
   "source": [
    "yloc, xloc = np.where(result >= threshold)"
   ]
  },
  {
   "cell_type": "code",
   "execution_count": 77,
   "metadata": {
    "ExecuteTime": {
     "end_time": "2025-02-09T18:06:20.501531400Z",
     "start_time": "2025-02-09T18:06:20.437256100Z"
    }
   },
   "outputs": [
    {
     "data": {
      "text/plain": "4"
     },
     "execution_count": 77,
     "metadata": {},
     "output_type": "execute_result"
    }
   ],
   "source": [
    "len(xloc)"
   ]
  },
  {
   "cell_type": "code",
   "execution_count": 78,
   "metadata": {
    "ExecuteTime": {
     "end_time": "2025-02-09T18:06:20.502789500Z",
     "start_time": "2025-02-09T18:06:20.445218900Z"
    }
   },
   "outputs": [],
   "source": [
    "for (x, y) in zip(xloc, yloc):\n",
    "    cv2.rectangle(image, (x, y), (x + w, y + h), (0, 255, 255), 2)"
   ]
  },
  {
   "cell_type": "code",
   "outputs": [],
   "source": [],
   "metadata": {
    "collapsed": false,
    "ExecuteTime": {
     "end_time": "2025-02-09T18:06:20.503849100Z",
     "start_time": "2025-02-09T18:06:20.454951400Z"
    }
   },
   "execution_count": 78
  }
 ],
 "metadata": {
  "kernelspec": {
   "display_name": "Python 3 (ipykernel)",
   "language": "python",
   "name": "python3"
  },
  "language_info": {
   "codemirror_mode": {
    "name": "ipython",
    "version": 3
   },
   "file_extension": ".py",
   "mimetype": "text/x-python",
   "name": "python",
   "nbconvert_exporter": "python",
   "pygments_lexer": "ipython3",
   "version": "3.12.3"
  }
 },
 "nbformat": 4,
 "nbformat_minor": 4
}
