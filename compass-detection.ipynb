{
 "cells": [
  {
   "cell_type": "code",
   "execution_count": 4,
   "metadata": {},
   "outputs": [],
   "source": [
    "# !pip install opencv-python\n",
    "import cv2\n",
    "import numpy as np\n",
    "import matplotlib.pyplot as plt"
   ]
  },
  {
   "cell_type": "code",
   "execution_count": 196,
   "metadata": {},
   "outputs": [],
   "source": [
    "image = cv2.imread(\"screenshot2.jpg\", cv2.IMREAD_UNCHANGED)\n",
    "template = cv2.imread(\"compass_template_center.jpg\", cv2.IMREAD_COLOR)"
   ]
  },
  {
   "cell_type": "code",
   "execution_count": 204,
   "metadata": {},
   "outputs": [],
   "source": [
    "cv2.imshow(\"Scene\", image)\n",
    "cv2.waitKey()\n",
    "cv2.destroyAllWindows()"
   ]
  },
  {
   "cell_type": "code",
   "execution_count": 41,
   "metadata": {},
   "outputs": [],
   "source": [
    "cv2.imshow(\"Compass\", template)\n",
    "cv2.waitKey()\n",
    "cv2.destroyAllWindows()"
   ]
  },
  {
   "cell_type": "code",
   "execution_count": 198,
   "metadata": {},
   "outputs": [],
   "source": [
    "result = cv2.matchTemplate(image, template, cv2.TM_CCOEFF_NORMED)"
   ]
  },
  {
   "cell_type": "code",
   "execution_count": 199,
   "metadata": {},
   "outputs": [],
   "source": [
    "cv2.imshow(\"Result\", result)\n",
    "cv2.waitKey()\n",
    "cv2.destroyAllWindows()"
   ]
  },
  {
   "cell_type": "code",
   "execution_count": 182,
   "metadata": {},
   "outputs": [],
   "source": [
    "min_val, max_val, min_loc, max_loc = cv2.minMaxLoc(result)"
   ]
  },
  {
   "cell_type": "code",
   "execution_count": 96,
   "metadata": {},
   "outputs": [
    {
     "data": {
      "text/plain": [
       "(1159, 301)"
      ]
     },
     "execution_count": 96,
     "metadata": {},
     "output_type": "execute_result"
    }
   ],
   "source": [
    "max_loc"
   ]
  },
  {
   "cell_type": "code",
   "execution_count": 97,
   "metadata": {},
   "outputs": [
    {
     "data": {
      "text/plain": [
       "0.7462959885597229"
      ]
     },
     "execution_count": 97,
     "metadata": {},
     "output_type": "execute_result"
    }
   ],
   "source": [
    "max_val"
   ]
  },
  {
   "cell_type": "code",
   "execution_count": 111,
   "metadata": {},
   "outputs": [],
   "source": [
    "w = template.shape[1]\n",
    "h = template.shape[0]"
   ]
  },
  {
   "cell_type": "code",
   "execution_count": 183,
   "metadata": {},
   "outputs": [
    {
     "data": {
      "text/plain": [
       "array([[[15, 13, 12],\n",
       "        [15, 13, 12],\n",
       "        [15, 13, 12],\n",
       "        ...,\n",
       "        [13, 11, 10],\n",
       "        [14, 12, 11],\n",
       "        [13, 11, 10]],\n",
       "\n",
       "       [[15, 13, 12],\n",
       "        [15, 13, 12],\n",
       "        [15, 13, 12],\n",
       "        ...,\n",
       "        [13, 11, 10],\n",
       "        [14, 12, 11],\n",
       "        [13, 11, 10]],\n",
       "\n",
       "       [[15, 13, 12],\n",
       "        [15, 13, 12],\n",
       "        [15, 13, 12],\n",
       "        ...,\n",
       "        [13, 11, 10],\n",
       "        [14, 12, 11],\n",
       "        [13, 11, 10]],\n",
       "\n",
       "       ...,\n",
       "\n",
       "       [[32, 31, 27],\n",
       "        [32, 31, 27],\n",
       "        [32, 31, 27],\n",
       "        ...,\n",
       "        [37, 36, 32],\n",
       "        [37, 36, 32],\n",
       "        [37, 36, 32]],\n",
       "\n",
       "       [[31, 30, 26],\n",
       "        [31, 30, 26],\n",
       "        [31, 30, 26],\n",
       "        ...,\n",
       "        [37, 36, 32],\n",
       "        [37, 36, 32],\n",
       "        [37, 36, 32]],\n",
       "\n",
       "       [[31, 30, 26],\n",
       "        [31, 30, 26],\n",
       "        [31, 30, 26],\n",
       "        ...,\n",
       "        [37, 36, 32],\n",
       "        [37, 36, 32],\n",
       "        [37, 36, 32]]], dtype=uint8)"
      ]
     },
     "execution_count": 183,
     "metadata": {},
     "output_type": "execute_result"
    }
   ],
   "source": [
    "cv2.rectangle(image, max_loc, (max_loc[0] + w, max_loc[1] + h), (0, 255, 255), 2)"
   ]
  },
  {
   "cell_type": "code",
   "execution_count": 160,
   "metadata": {},
   "outputs": [],
   "source": [
    "threshold = .85"
   ]
  },
  {
   "cell_type": "code",
   "execution_count": 201,
   "metadata": {},
   "outputs": [],
   "source": [
    "yloc, xloc = np.where(result >= threshold)"
   ]
  },
  {
   "cell_type": "code",
   "execution_count": 202,
   "metadata": {},
   "outputs": [
    {
     "data": {
      "text/plain": [
       "5"
      ]
     },
     "execution_count": 202,
     "metadata": {},
     "output_type": "execute_result"
    }
   ],
   "source": [
    "len(xloc)"
   ]
  },
  {
   "cell_type": "code",
   "execution_count": 203,
   "metadata": {},
   "outputs": [],
   "source": [
    "for (x, y) in zip(xloc, yloc):\n",
    "    cv2.rectangle(image, (x, y), (x + w, y + h), (0, 255, 255), 2)"
   ]
  }
 ],
 "metadata": {
  "kernelspec": {
   "display_name": "Python 3 (ipykernel)",
   "language": "python",
   "name": "python3"
  },
  "language_info": {
   "codemirror_mode": {
    "name": "ipython",
    "version": 3
   },
   "file_extension": ".py",
   "mimetype": "text/x-python",
   "name": "python",
   "nbconvert_exporter": "python",
   "pygments_lexer": "ipython3",
   "version": "3.12.3"
  }
 },
 "nbformat": 4,
 "nbformat_minor": 4
}
